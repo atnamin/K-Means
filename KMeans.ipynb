{
 "cells": [
  {
   "cell_type": "code",
   "execution_count": null,
   "metadata": {},
   "outputs": [],
   "source": [
    "import pandas as pd\n",
    "import numpy as np\n",
    "import seaborn as sns\n",
    "import matplotlib.pyplot as plt\n",
    "from sklearn.cluster import KMeans\n",
    "%matplotlib inline\n",
    "\n",
    "cdata = pd.read_csv('College_Data', index_col = 0)\n",
    "cdata.info()\n",
    "cdata.describe()\n",
    "sns.scatterplot(x = 'Room.Board', y = 'Grad.Rate', data = cdata, hue = 'Private')\n",
    "sns.lmplot(x= 'Outstate', y = 'F.Undergrad', data = cdata, hue = 'Private', fit_reg = False)\n",
    "g = sns.FacetGrid(cdata, hue = 'Private', palette= 'coolwarm', size= 6, aspect =2)\n",
    "g = g.map(plt.hist, 'Outstate', bins = 30, alpha = 0.6)\n",
    "cdata[cdata['Grad.Rate']> 100]\n",
    "cdata.at['Cazenovia College', 'Grad.Rate'] = 100\n",
    "\n",
    "model = KMeans(n_clusters = 2)\n",
    "X = cdata.drop('Private', axis =1 )\n",
    "model.fit(X)\n",
    "model.cluster_centers_\n",
    "model.labels_"
   ]
  }
 ],
 "metadata": {
  "kernelspec": {
   "display_name": "Python 3",
   "language": "python",
   "name": "python3"
  },
  "language_info": {
   "codemirror_mode": {
    "name": "ipython",
    "version": 3
   },
   "file_extension": ".py",
   "mimetype": "text/x-python",
   "name": "python",
   "nbconvert_exporter": "python",
   "pygments_lexer": "ipython3",
   "version": "3.6.5"
  }
 },
 "nbformat": 4,
 "nbformat_minor": 2
}
